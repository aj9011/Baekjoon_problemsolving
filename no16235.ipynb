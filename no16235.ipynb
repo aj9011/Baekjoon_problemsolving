{
 "cells": [
  {
   "cell_type": "code",
   "execution_count": 2,
   "metadata": {},
   "outputs": [
    {
     "name": "stdin",
     "output_type": "stream",
     "text": [
      " 5 2 6\n",
      " 2 3 2 3 2\n",
      " 2 3 2 3 2\n",
      " 2 3 2 3 2\n",
      " 2 3 2 3 2\n",
      " 2 3 2 3 2\n",
      " 2 1 3\n",
      " 3 2 3\n"
     ]
    }
   ],
   "source": [
    "dx = [-1,-1,-1,0,0,1,1,1]\n",
    "dy = [-1,0,1,-1,1,-1,0,1]\n",
    "n,m,k = map(int, input().split()) # 땅넓이, 나무갯수, 몇년후\n",
    "a = [list(map(int, input().split())) for _ in range(n)]\n",
    "d = [[5] * n for _ in range(n)] # 처음양분\n",
    "tree = [[[] for j in range(n)] for i in range(n)]\n",
    "for _ in range(m): # 나무의 위치 및 나이 tree에 저장\n",
    "    x,y,age = map(int, input().split())\n",
    "    tree[x-1][y-1].append(age)"
   ]
  },
  {
   "cell_type": "code",
   "execution_count": 3,
   "metadata": {},
   "outputs": [
    {
     "name": "stdout",
     "output_type": "stream",
     "text": [
      "85\n"
     ]
    }
   ],
   "source": [
    "for _ in range(k):\n",
    "    p = [[0]*n for _ in range(n)]\n",
    "    for i in range(n):\n",
    "        for j in range(n):\n",
    "            temp = []\n",
    "            tree[i][j].sort() # 나이가 어린나무부터 양분을 먹음\n",
    "            dead = 0\n",
    "            for x in tree[i][j]: # 한위치의 나무의 수동안\n",
    "                if x <= d[i][j]:\n",
    "                    d[i][j] -= x\n",
    "                    temp.append(x+1)\n",
    "                    if (x+1) % 5 == 0:\n",
    "                        for ed in range(8):\n",
    "                            nx, ny = i+dx[ed], j+dy[ed]\n",
    "                            if 0<= nx <n and 0<= ny < n:\n",
    "                                p[nx][ny] +=1\n",
    "                else:\n",
    "                    dead += x//2\n",
    "            \n",
    "            tree[i][j] = temp # 양분을 먹어 한살이 늘어난것을 업데이트\n",
    "            d[i][j] += dead # 죽은 나무마다 나이를 2로 나눈값을 양분으로 추가\n",
    "            d[i][j] += a[i][j] # S2D2가 땅에 양분을 추가 (A[r][c])\n",
    "    for i in range(n):\n",
    "        for j in range(n):\n",
    "            for k in range(p[i][j]):\n",
    "                tree[i][j].append(1) # p에 더했던 1 씩 번식한 나무들을 Tree에 더하기\n",
    "                \n",
    "ans = 0\n",
    "for i in range(n):\n",
    "    for j in range(n):\n",
    "        ans += len(tree[i][j])\n",
    "print(ans)        "
   ]
  }
 ],
 "metadata": {
  "kernelspec": {
   "display_name": "Python 3",
   "language": "python",
   "name": "python3"
  },
  "language_info": {
   "codemirror_mode": {
    "name": "ipython",
    "version": 3
   },
   "file_extension": ".py",
   "mimetype": "text/x-python",
   "name": "python",
   "nbconvert_exporter": "python",
   "pygments_lexer": "ipython3",
   "version": "3.7.3"
  }
 },
 "nbformat": 4,
 "nbformat_minor": 4
}
