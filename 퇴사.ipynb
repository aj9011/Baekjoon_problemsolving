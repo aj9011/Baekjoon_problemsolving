{
 "cells": [
  {
   "cell_type": "markdown",
   "metadata": {},
   "source": [
    "# 퇴사"
   ]
  },
  {
   "cell_type": "markdown",
   "metadata": {},
   "source": [
    "https://www.acmicpc.net/problem/14501"
   ]
  },
  {
   "cell_type": "markdown",
   "metadata": {},
   "source": [
    "day, money\n",
    "1. 상담을 하는 경우 : go(day + t[day], money + p[money])\n",
    "2. 상담을 안하는 경우 : go(day + 1, money)\n",
    "    \n",
    "결과값을 내야 할떄, day = n+1, n=7 이고 day(0~7)는 8까지\n",
    "결과값을 내면 안될떄, day > n+1\n",
    "ans에 max값을 계속 업데이트해서 최대값을 뽑기\n",
    "    \n",
    "재귀로 브루트 포스를 풀기"
   ]
  },
  {
   "cell_type": "code",
   "execution_count": 1,
   "metadata": {},
   "outputs": [],
   "source": [
    "n = int(input())\n",
    "t = [0]*(n+1)\n",
    "p = [0] * (n+1)\n",
    "for i in range(1, n+1):\n",
    "    t[i],p[i] = map(int,input().split())"
   ]
  },
  {
   "cell_type": "code",
   "execution_count": 2,
   "metadata": {},
   "outputs": [],
   "source": [
    "ans =0 \n",
    "def go(day, money):\n",
    "    # 이후에 ans를 프린트하기 위함\n",
    "    global ans\n",
    "    if day == n+1:\n",
    "        ans = max(ans, money)\n",
    "        return\n",
    "    if day > n+1:\n",
    "        return\n",
    "    \n",
    "    go(day+1, money)\n",
    "    go(day + t[day], money + p[day])  "
   ]
  },
  {
   "cell_type": "code",
   "execution_count": 3,
   "metadata": {},
   "outputs": [
    {
     "name": "stdout",
     "output_type": "stream",
     "text": [
      "45\n"
     ]
    }
   ],
   "source": [
    "go(1,0)\n",
    "print(ans)"
   ]
  }
 ],
 "metadata": {
  "kernelspec": {
   "display_name": "Python 3",
   "language": "python",
   "name": "python3"
  },
  "language_info": {
   "codemirror_mode": {
    "name": "ipython",
    "version": 3
   },
   "file_extension": ".py",
   "mimetype": "text/x-python",
   "name": "python",
   "nbconvert_exporter": "python",
   "pygments_lexer": "ipython3",
   "version": "3.6.5"
  }
 },
 "nbformat": 4,
 "nbformat_minor": 2
}
