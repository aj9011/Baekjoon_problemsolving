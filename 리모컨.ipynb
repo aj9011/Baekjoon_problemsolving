{
 "cells": [
  {
   "cell_type": "markdown",
   "metadata": {},
   "source": [
    "# 리모컨"
   ]
  },
  {
   "cell_type": "markdown",
   "metadata": {},
   "source": [
    "1. 이동할 채널 C를 정한다.\n",
    "2. C에 포함되어있는 숫자 중에 고장난 버튼이 있는지 확인한다.\n",
    "    - 수를 문자열로 바꾼 다음, 한 글자씩 검사하는 방법\n",
    "    - 수를 10으로 계속해서 나누면서 하나씩 검사하는 방법\n",
    "3. 고장난 버튼이 포함되어 있지 않다면 |C-N|을 계산해 +나 -버튼을 몇 번 눌러야 하는지를 계산한다."
   ]
  },
  {
   "cell_type": "code",
   "execution_count": 17,
   "metadata": {},
   "outputs": [
    {
     "name": "stdin",
     "output_type": "stream",
     "text": [
      " 5457\n",
      " 3\n"
     ]
    }
   ],
   "source": [
    "n = int(input()) # 이동할려는 목표 채널\n",
    "m = int(input()) # 고장난 번호 수\n",
    "broken = [False]* 10"
   ]
  },
  {
   "cell_type": "code",
   "execution_count": 18,
   "metadata": {},
   "outputs": [
    {
     "data": {
      "text/plain": [
       "[False, False, False, False, False, False, False, False, False, False]"
      ]
     },
     "execution_count": 18,
     "metadata": {},
     "output_type": "execute_result"
    }
   ],
   "source": [
    "broken"
   ]
  },
  {
   "cell_type": "code",
   "execution_count": 19,
   "metadata": {},
   "outputs": [
    {
     "name": "stdin",
     "output_type": "stream",
     "text": [
      " 6 7 8\n"
     ]
    }
   ],
   "source": [
    "if m > 0:\n",
    "    a= list(map(int, input().split())) # 고장난 채널 번호들\n",
    "else:\n",
    "    a = []\n",
    "\n",
    "# 고장난 번호부분, 위치에 broken[위치] = True\n",
    "for x in a:\n",
    "    broken[x] = True"
   ]
  },
  {
   "cell_type": "code",
   "execution_count": 20,
   "metadata": {},
   "outputs": [
    {
     "data": {
      "text/plain": [
       "[6, 7, 8]"
      ]
     },
     "execution_count": 20,
     "metadata": {},
     "output_type": "execute_result"
    }
   ],
   "source": [
    "a"
   ]
  },
  {
   "cell_type": "code",
   "execution_count": 21,
   "metadata": {},
   "outputs": [
    {
     "data": {
      "text/plain": [
       "5357"
      ]
     },
     "execution_count": 21,
     "metadata": {},
     "output_type": "execute_result"
    }
   ],
   "source": [
    "# 목표채널 - 현재채널(100)\n",
    "ans = abs(n-100)\n",
    "ans"
   ]
  },
  {
   "cell_type": "code",
   "execution_count": 23,
   "metadata": {},
   "outputs": [
    {
     "name": "stdout",
     "output_type": "stream",
     "text": [
      "6\n"
     ]
    }
   ],
   "source": [
    "# 0~십만, 이동하려는 채널 범위의 2배\n",
    "# 고장난 채널들에 의해 큰수에서 내려와되는경우도 있음\n",
    "for i in range(1000001):\n",
    "    c = i\n",
    "    # possible 함수를 통해 각각의 자리수마다 고장난 채널이 아닌것을 카운트함\n",
    "    l = possible(c)\n",
    "    # 고장나지 않은 자리수가 0보다 크다면\n",
    "    if l > 0:\n",
    "        # 탐색하는 채널 - 목표 채널의 절대값을 press에 넣고\n",
    "        press = abs(c-n)\n",
    "        # 만약 |목표채널 - 현재채널(100)| > |탐색하는 채널 - 목표 채널| 이면\n",
    "        # 이뜻은 현재 채널 100에서 +혹은 -로 가는것보다\n",
    "        # 탐색하는 채널과 목표채널의 차이가 더 적어야 그값을 정답으로 쓴다는 이야기\n",
    "        if ans > l + press:\n",
    "            ans = l + press\n",
    "print(ans)"
   ]
  },
  {
   "cell_type": "code",
   "execution_count": 22,
   "metadata": {},
   "outputs": [],
   "source": [
    "def possible(c):\n",
    "    # 입력이 0일떄 고장났으면 0 아님 1인것 처리\n",
    "    if c == 0:\n",
    "        if broken[0] == True:\n",
    "            return 0\n",
    "        else:\n",
    "            return 1\n",
    "    leng = 0\n",
    "    # 입력이 0 보다 컷을떄 각각의 자리수를 확인하여 \n",
    "    while c > 0:\n",
    "        if broken[c%10] == True:\n",
    "            return 0\n",
    "        # 고장났는지 확인후 아니면 leng을 카운트함\n",
    "        leng += 1\n",
    "        # 다음자리수로 이동\n",
    "        c //= 10\n",
    "        \n",
    "    return leng"
   ]
  },
  {
   "cell_type": "code",
   "execution_count": null,
   "metadata": {},
   "outputs": [],
   "source": []
  }
 ],
 "metadata": {
  "kernelspec": {
   "display_name": "Python 3",
   "language": "python",
   "name": "python3"
  },
  "language_info": {
   "codemirror_mode": {
    "name": "ipython",
    "version": 3
   },
   "file_extension": ".py",
   "mimetype": "text/x-python",
   "name": "python",
   "nbconvert_exporter": "python",
   "pygments_lexer": "ipython3",
   "version": "3.7.3"
  }
 },
 "nbformat": 4,
 "nbformat_minor": 4
}
