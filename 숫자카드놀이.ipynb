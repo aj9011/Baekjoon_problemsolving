{
 "cells": [
  {
   "cell_type": "markdown",
   "metadata": {},
   "source": [
    "# 숫자 카드놀이"
   ]
  },
  {
   "cell_type": "markdown",
   "metadata": {},
   "source": [
    "0~9까지의 숫자카드가중 3장을 골라 만들수 있는 제일 작은 수 부터\n",
    "시작해, 만들 수 있는 가장 큰 수까지 만들어 나간다. 이떄\n",
    "k번째 수가 만들어 졌을 떄 STOP을 외친다. 수의 맨 앞자리가\n",
    "0으로 시작 할 수 있다.\n",
    "STOP을 외쳤을떄 수를 출력하는 프로그램을 만드시오."
   ]
  },
  {
   "cell_type": "markdown",
   "metadata": {},
   "source": [
    "입력되어진 세자리 숫자로 순열을 구하는 문제\n",
    "1. 세자리 입력받는다\n",
    "2. 입력받은 숫자를 정렬한다.\n",
    "3. 경우가 6가지 밖에 없으므로, 직접 배열에다가\n",
    "(1) 0-1-2, (2) 0-2-1, (3) 1-0-2, (4) 1-2-0\n",
    "(5) 2-0-1...\n",
    "4. 원하는 번째의 순열을 출력한다"
   ]
  },
  {
   "cell_type": "code",
   "execution_count": 6,
   "metadata": {},
   "outputs": [],
   "source": [
    "number= list(input().split()) # 세가지 숫자카드\n",
    "k = int(input()) # 몇번째에서 스탑"
   ]
  },
  {
   "cell_type": "code",
   "execution_count": 7,
   "metadata": {},
   "outputs": [
    {
     "data": {
      "text/plain": [
       "['0', '1', '2']"
      ]
     },
     "execution_count": 7,
     "metadata": {},
     "output_type": "execute_result"
    }
   ],
   "source": [
    "number = sorted(number) # 정렬\n",
    "number"
   ]
  },
  {
   "cell_type": "code",
   "execution_count": 8,
   "metadata": {},
   "outputs": [],
   "source": [
    "# 3가지 카드의 조합은 6가지이므로 하드코딩으로 커버해준다\n",
    "arr=[]\n",
    "arr.append([number[0]+number[1]+number[2]])\n",
    "arr.append([number[0]+number[2]+number[1]])\n",
    "arr.append([number[1]+number[0]+number[2]])\n",
    "arr.append([number[1]+number[2]+number[0]])\n",
    "arr.append([number[2]+number[0]+number[1]])\n",
    "arr.append([number[2]+number[1]+number[0]])"
   ]
  },
  {
   "cell_type": "code",
   "execution_count": 9,
   "metadata": {},
   "outputs": [
    {
     "data": {
      "text/plain": [
       "[['012'], ['021'], ['102'], ['120'], ['201'], ['210']]"
      ]
     },
     "execution_count": 9,
     "metadata": {},
     "output_type": "execute_result"
    }
   ],
   "source": [
    "arr"
   ]
  },
  {
   "cell_type": "code",
   "execution_count": 10,
   "metadata": {},
   "outputs": [
    {
     "name": "stdout",
     "output_type": "stream",
     "text": [
      "201\n"
     ]
    }
   ],
   "source": [
    "# 0번째부터 했으므로 k-1\n",
    "print(arr[k-1].pop(0))"
   ]
  },
  {
   "cell_type": "code",
   "execution_count": null,
   "metadata": {},
   "outputs": [],
   "source": []
  },
  {
   "cell_type": "code",
   "execution_count": null,
   "metadata": {},
   "outputs": [],
   "source": []
  },
  {
   "cell_type": "code",
   "execution_count": null,
   "metadata": {},
   "outputs": [],
   "source": []
  },
  {
   "cell_type": "code",
   "execution_count": null,
   "metadata": {},
   "outputs": [],
   "source": []
  }
 ],
 "metadata": {
  "kernelspec": {
   "display_name": "Python 3",
   "language": "python",
   "name": "python3"
  },
  "language_info": {
   "codemirror_mode": {
    "name": "ipython",
    "version": 3
   },
   "file_extension": ".py",
   "mimetype": "text/x-python",
   "name": "python",
   "nbconvert_exporter": "python",
   "pygments_lexer": "ipython3",
   "version": "3.6.5"
  }
 },
 "nbformat": 4,
 "nbformat_minor": 2
}
