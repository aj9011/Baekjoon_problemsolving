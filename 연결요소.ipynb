{
 "cells": [
  {
   "cell_type": "markdown",
   "metadata": {},
   "source": [
    "# 연결 요소의 개수"
   ]
  },
  {
   "cell_type": "code",
   "execution_count": null,
   "metadata": {},
   "outputs": [],
   "source": [
    "https://www.acmicpc.net/problem/11724"
   ]
  },
  {
   "cell_type": "code",
   "execution_count": null,
   "metadata": {},
   "outputs": [],
   "source": [
    "연결 요소의 개수, 이어지지않은 그래프 갯수를 구하는문제\n",
    "BFS를 이용하여 깊이 탐색하여 방문했던 곳을 모두 check하여\n",
    "깊이 탐색을 끝낼때마다 카운트하여 문제해결"
   ]
  },
  {
   "cell_type": "code",
   "execution_count": 1,
   "metadata": {},
   "outputs": [],
   "source": [
    "n,m = map(int, input().split())\n",
    "# 인접 리스트\n",
    "adj_list = [[] for _ in range(n)]\n",
    "# 정점 체크\n",
    "check = [False] * n"
   ]
  },
  {
   "cell_type": "code",
   "execution_count": 3,
   "metadata": {},
   "outputs": [],
   "source": [
    "# 간선의 개수만큼\n",
    "for _ in range(m):\n",
    "    # 0부터 시작하므로 -1\n",
    "    u,v = map(int, input().split())\n",
    "    adj_list[u-1].append(v-1)\n",
    "    adj_list[v-1].append(u-1)"
   ]
  },
  {
   "cell_type": "code",
   "execution_count": 7,
   "metadata": {},
   "outputs": [],
   "source": [
    "def dfs(x):\n",
    "    # 체크를 True로 만들어주고(방문)\n",
    "    check[x] = True\n",
    "    # 인접리스트, 연결되어 있는 정점들을 모두 탐색\n",
    "    for j in adj_list[x]:\n",
    "        # 그 정점들중 방문이 안되어 있으면\n",
    "        if check[j] == False:\n",
    "            # 재귀함수 호출 하여 그것과 연결되어 있는것들\n",
    "            # 다시 탐색\n",
    "            dfs(j)"
   ]
  },
  {
   "cell_type": "code",
   "execution_count": 8,
   "metadata": {},
   "outputs": [
    {
     "name": "stdout",
     "output_type": "stream",
     "text": [
      "2\n"
     ]
    }
   ],
   "source": [
    "count = 0\n",
    "# 정점을 개수만큼 모두 탐색\n",
    "for i in range(n):\n",
    "    # 그 정점이 체크가 안되어 있으면\n",
    "    if check[i] == False:\n",
    "        # dfs 호출, dfs의 특성을 이용해 깊이탐색,\n",
    "        # 최대한 많이 탐색한후에\n",
    "        dfs(i)\n",
    "        # 카운트 하나더함, 이뜻은 연결되어 있지않으면\n",
    "        # dfs가 끝나고 하나를 더하기 때문에 연결 요소를\n",
    "        # 카운트하는것과 같다\n",
    "        count += 1\n",
    "print(count)"
   ]
  },
  {
   "cell_type": "code",
   "execution_count": null,
   "metadata": {},
   "outputs": [],
   "source": []
  },
  {
   "cell_type": "code",
   "execution_count": null,
   "metadata": {},
   "outputs": [],
   "source": []
  }
 ],
 "metadata": {
  "kernelspec": {
   "display_name": "Python 3",
   "language": "python",
   "name": "python3"
  },
  "language_info": {
   "codemirror_mode": {
    "name": "ipython",
    "version": 3
   },
   "file_extension": ".py",
   "mimetype": "text/x-python",
   "name": "python",
   "nbconvert_exporter": "python",
   "pygments_lexer": "ipython3",
   "version": "3.6.5"
  }
 },
 "nbformat": 4,
 "nbformat_minor": 2
}
