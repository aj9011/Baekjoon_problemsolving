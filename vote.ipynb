{
 "cells": [
  {
   "cell_type": "markdown",
   "metadata": {},
   "source": [
    "# 투표"
   ]
  },
  {
   "cell_type": "markdown",
   "metadata": {},
   "source": [
    "투표를 하는데 사람들의 투표가능 시간이 겹치는 경우가 많았다.\n",
    "대기시간을 없애고자 투표 부스를 적절하게 설치하였다. 투표에\n",
    "참석하는 직원 수와 각 직원의 투표 가능 시간이 주어질떄, 설치\n",
    "해야하는 최소 부스의 총 개수를 출력하시오."
   ]
  },
  {
   "cell_type": "code",
   "execution_count": 1,
   "metadata": {},
   "outputs": [],
   "source": [
    "n = int(input()) # 직원의 수\n",
    "v_times=[]\n",
    "for _ in range(n):\n",
    "    # 투표 부스 입장시간, 빠져나오는 시간\n",
    "    # 비는순간 다음 사람이 들어갈 수 있음.\n",
    "    s,e = map(int,input().split())\n",
    "    v_times.append([s,e])"
   ]
  },
  {
   "cell_type": "code",
   "execution_count": 2,
   "metadata": {},
   "outputs": [
    {
     "data": {
      "text/plain": [
       "[[0, 10], [10, 15], [20, 30]]"
      ]
     },
     "execution_count": 2,
     "metadata": {},
     "output_type": "execute_result"
    }
   ],
   "source": [
    "v_times"
   ]
  },
  {
   "cell_type": "code",
   "execution_count": 3,
   "metadata": {},
   "outputs": [
    {
     "name": "stdout",
     "output_type": "stream",
     "text": [
      "1\n"
     ]
    }
   ],
   "source": [
    "booth = 1\n",
    "for i in range(len(v_times)-1):\n",
    "    if v_times[i][1] > v_times[i+1][0]:\n",
    "        booth += 1\n",
    "print(booth)        "
   ]
  }
 ],
 "metadata": {
  "kernelspec": {
   "display_name": "Python 3",
   "language": "python",
   "name": "python3"
  },
  "language_info": {
   "codemirror_mode": {
    "name": "ipython",
    "version": 3
   },
   "file_extension": ".py",
   "mimetype": "text/x-python",
   "name": "python",
   "nbconvert_exporter": "python",
   "pygments_lexer": "ipython3",
   "version": "3.6.5"
  }
 },
 "nbformat": 4,
 "nbformat_minor": 2
}
