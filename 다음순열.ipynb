{
 "cells": [
  {
   "cell_type": "markdown",
   "metadata": {},
   "source": [
    "## 순열"
   ]
  },
  {
   "cell_type": "markdown",
   "metadata": {},
   "source": [
    "다음순열 : 순열을 사전순으로 나열했을 떄, 사전순으로 다음에 오는\n",
    "순열과 이전에 오는 순열을 찾는 방법"
   ]
  },
  {
   "cell_type": "markdown",
   "metadata": {},
   "source": [
    "순열의 마지막 수에서 끝나는 가장 긴 감소수열을 찾아야한다"
   ]
  },
  {
   "cell_type": "markdown",
   "metadata": {},
   "source": [
    "https://www.acmicpc.net/problem/10972"
   ]
  },
  {
   "cell_type": "code",
   "execution_count": 51,
   "metadata": {},
   "outputs": [],
   "source": [
    "n = int(input())\n",
    "a = list(map(int, input().split()))"
   ]
  },
  {
   "cell_type": "code",
   "execution_count": 52,
   "metadata": {},
   "outputs": [],
   "source": [
    "\n",
    "def next_permutation(a):\n",
    "    # 가장 긴 감소수열의 최소값을 찾는부분\n",
    "    # 맨끝부터 두개의 값중 뒤의 값이 작은 값을 찾기\n",
    "    # 감소수열 7 2 3 6 5 4 1\n",
    "    # 감소수열이 끝나는 부분은 뒤값이 앞값보다 작아야함\n",
    "    i = len(a) -1 \n",
    "    while i > 0 and a[i-1] >= a[i]:\n",
    "         i -= 1\n",
    "    \n",
    "    if i <= 0:\n",
    "        return False\n",
    "    # 가장 긴 감소수열의 최대값을 찾는부분\n",
    "    # 맨앞에서 부터 시작해서 i보다 큰면서 차이가 가장적은 수를 찾기\n",
    "    j=len(a)-1\n",
    "    while a[j] <= a[i-1]:\n",
    "        j -= 1\n",
    "    # 이후 가장 긴 감소수열의 최소와 최대를 스왑\n",
    "    a[i-1],a[j] = a[j],a[i-1]\n",
    "    # 그사이값들을 다시 정렬\n",
    "    j = len(a) -1 \n",
    "    while i< j:\n",
    "        a[i],a[j] = a[j],a[i]\n",
    "        i+=1\n",
    "        j-=1\n",
    "        \n",
    "    return True"
   ]
  },
  {
   "cell_type": "code",
   "execution_count": 53,
   "metadata": {},
   "outputs": [
    {
     "name": "stdout",
     "output_type": "stream",
     "text": [
      "7 2 4 1 3 5 6\n"
     ]
    }
   ],
   "source": [
    "if next_permutation(a):\n",
    "    print(' '.join(map(str, a)))\n",
    "else:\n",
    "    print(-1)"
   ]
  }
 ],
 "metadata": {
  "kernelspec": {
   "display_name": "Python 3",
   "language": "python",
   "name": "python3"
  },
  "language_info": {
   "codemirror_mode": {
    "name": "ipython",
    "version": 3
   },
   "file_extension": ".py",
   "mimetype": "text/x-python",
   "name": "python",
   "nbconvert_exporter": "python",
   "pygments_lexer": "ipython3",
   "version": "3.6.5"
  }
 },
 "nbformat": 4,
 "nbformat_minor": 2
}
