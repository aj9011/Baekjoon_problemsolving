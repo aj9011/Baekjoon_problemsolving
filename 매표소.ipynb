{
 "cells": [
  {
   "cell_type": "markdown",
   "metadata": {},
   "source": [
    "# 매표소 줄세우기"
   ]
  },
  {
   "cell_type": "markdown",
   "metadata": {},
   "source": [
    "문제 : 1개의 매표소, 손님 1명을 입장시키는데 1분\n",
    "최대한 빠르게 입장할 수 있도록 줄을 적게 서잇는 매표소로 안내\n",
    "단체손님은 같은 매표소, 단체손님 또한 1명당 1분 소요\n",
    "줄을 배정하는데 시간 소요 x\n",
    "가장 빠르게 입장시키는 방법의 소요시간을 출력하는 프로그램"
   ]
  },
  {
   "cell_type": "code",
   "execution_count": 1,
   "metadata": {},
   "outputs": [],
   "source": [
    "n, k = map(int, input().split())# 손님 그룹의 개수, 문연 매표소 수\n",
    "ticketOffice=[]\n",
    "group=[]\n",
    "for _ in range(n):\n",
    "    group.append(int(input())) # 각 그룹의 손님수\n",
    "for _ in range(k):\n",
    "    ticketOffice.append([]) # 문연 매표소 수"
   ]
  },
  {
   "cell_type": "code",
   "execution_count": 2,
   "metadata": {},
   "outputs": [
    {
     "name": "stdout",
     "output_type": "stream",
     "text": [
      "[4, 3, 5, 2, 8]\n",
      "[[], []]\n"
     ]
    }
   ],
   "source": [
    "print(group)\n",
    "print(ticketOffice)"
   ]
  },
  {
   "cell_type": "code",
   "execution_count": 3,
   "metadata": {},
   "outputs": [
    {
     "name": "stdout",
     "output_type": "stream",
     "text": [
      "[5, 2, 8]\n",
      "[[4], [3]]\n"
     ]
    }
   ],
   "source": [
    "# 우선 문연 줄이없는 매표소에 각각의 그룹을 하나씩 받는다\n",
    "for i in range(len(ticketOffice)):\n",
    "    ticketOffice[i].append(group.pop(0))\n",
    "print(group)\n",
    "print(ticketOffice)"
   ]
  },
  {
   "cell_type": "code",
   "execution_count": 4,
   "metadata": {},
   "outputs": [],
   "source": [
    "# 남은 그룹손님수 만큼\n",
    "for k in range(len(group)):\n",
    "    tmp=[]\n",
    "    # 매표소 줄중에서 가장 짧은 수의 index를 리턴\n",
    "    for i in range(len(ticketOffice)):\n",
    "        tmp.append(sum(ticketOffice[i]))\n",
    "    min_index = tmp.index(min(tmp))\n",
    "    \n",
    "    # 가장 짧은 라인쪽에 순서대로 append\n",
    "    ticketOffice[min_index].append(group.pop(0))"
   ]
  },
  {
   "cell_type": "code",
   "execution_count": 5,
   "metadata": {},
   "outputs": [
    {
     "name": "stdout",
     "output_type": "stream",
     "text": [
      "14\n"
     ]
    }
   ],
   "source": [
    "# 줄세우는것을 마치고 가장 max값이 \n",
    "# 가장 빠르게 입장시킨은 소요시간\n",
    "ans= []\n",
    "for k in range(len(ticketOffice)):\n",
    "    ans.append(sum(ticketOffice[k]))\n",
    "print(max(ans))"
   ]
  }
 ],
 "metadata": {
  "kernelspec": {
   "display_name": "Python 3",
   "language": "python",
   "name": "python3"
  },
  "language_info": {
   "codemirror_mode": {
    "name": "ipython",
    "version": 3
   },
   "file_extension": ".py",
   "mimetype": "text/x-python",
   "name": "python",
   "nbconvert_exporter": "python",
   "pygments_lexer": "ipython3",
   "version": "3.6.5"
  }
 },
 "nbformat": 4,
 "nbformat_minor": 2
}
