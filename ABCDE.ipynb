{
 "cells": [
  {
   "cell_type": "markdown",
   "metadata": {},
   "source": [
    "# ABCDE"
   ]
  },
  {
   "cell_type": "markdown",
   "metadata": {},
   "source": [
    "https://www.acmicpc.net/problem/13023"
   ]
  },
  {
   "cell_type": "markdown",
   "metadata": {},
   "source": [
    "## 그래프에 대한 정리\n",
    "* 그래프는 정점(node, vertex) 와 간선(edge:정점간의 관계(선)) 으로 이루어짐\n",
    "* 차수 : 정점과 연결되어 있는 간선의 개수\n",
    "* 인접 행렬 : i->j 간선이 있을떄를 1, 없을때를 0 으로한 행렬\n",
    "* 인접 리스트 : 예로 [[1], [0, 2], [1, 3], [2, 4], [3]] 이런식으로 나타나며 정점의 순서로 무엇이랑 연결되어있는지 리스트 형태\n",
    "* 간선 리스트 : 모든 간선을 나타내는 형식, 예로 [(0,1), (1,0), (1,2)]"
   ]
  },
  {
   "cell_type": "code",
   "execution_count": 4,
   "metadata": {},
   "outputs": [],
   "source": [
    "import sys"
   ]
  },
  {
   "cell_type": "code",
   "execution_count": 1,
   "metadata": {},
   "outputs": [],
   "source": [
    "# 노드수, 간선수\n",
    "n,m = map(int,input().split())\n",
    "# 인접행렬\n",
    "ad_mat = [[False] * n for _ in range(n)]\n",
    "# 인접리스트\n",
    "ad_list = [[] for _ in range(n)]\n",
    "# 간선리스트\n",
    "edges=[]"
   ]
  },
  {
   "cell_type": "code",
   "execution_count": 2,
   "metadata": {},
   "outputs": [],
   "source": [
    "# 입력을 받으며 간선리스트, 인접행렬 그리고 인접리스트 채우기\n",
    "for _ in range(m):\n",
    "    u,v = map(int, input().split())\n",
    "    # \n",
    "    edges.append((u,v))\n",
    "    edges.append((v,u))\n",
    "    ad_mat[u][v] = ad_mat[v][u] = True\n",
    "    ad_list[u].append(v)\n",
    "    ad_list[v].append(u)"
   ]
  },
  {
   "cell_type": "code",
   "execution_count": 5,
   "metadata": {},
   "outputs": [
    {
     "name": "stdout",
     "output_type": "stream",
     "text": [
      "1\n"
     ]
    },
    {
     "ename": "SystemExit",
     "evalue": "0",
     "output_type": "error",
     "traceback": [
      "An exception has occurred, use %tb to see the full traceback.\n",
      "\u001b[1;31mSystemExit\u001b[0m\u001b[1;31m:\u001b[0m 0\n"
     ]
    },
    {
     "name": "stderr",
     "output_type": "stream",
     "text": [
      "C:\\Users\\aj901\\Anaconda3\\lib\\site-packages\\IPython\\core\\interactiveshell.py:2971: UserWarning: To exit: use 'exit', 'quit', or Ctrl-D.\n",
      "  warn(\"To exit: use 'exit', 'quit', or Ctrl-D.\", stacklevel=1)\n"
     ]
    }
   ],
   "source": [
    "m *= 2\n",
    "for i in range(m):\n",
    "    for j in range(m):\n",
    "        A,B = edges[i]\n",
    "        C,D = edges[j]\n",
    "        # 간선리스트에서 연결되있는 모두가 달라야한다\n",
    "        if A==B or A==C or A==D or B==C or B==D or C==D:\n",
    "            continue\n",
    "        # 인접 행렬에서 B,C 넘어가는, 비교하는 구간에서 서로\n",
    "        # 연결되어야 한다\n",
    "        if ad_mat[B][C] == False:\n",
    "            continue\n",
    "        # 위의 컨디션을 다 통과후 인접리스트에서 값들이 모두\n",
    "        # 달라야한다\n",
    "        for E in ad_list[D]:\n",
    "            if A== E or B==E or C==E or D==E:\n",
    "                continue\n",
    "        \n",
    "            print(1)\n",
    "            sys.exit(0)\n",
    "print(0)         "
   ]
  }
 ],
 "metadata": {
  "kernelspec": {
   "display_name": "Python 3",
   "language": "python",
   "name": "python3"
  },
  "language_info": {
   "codemirror_mode": {
    "name": "ipython",
    "version": 3
   },
   "file_extension": ".py",
   "mimetype": "text/x-python",
   "name": "python",
   "nbconvert_exporter": "python",
   "pygments_lexer": "ipython3",
   "version": "3.6.5"
  }
 },
 "nbformat": 4,
 "nbformat_minor": 2
}
