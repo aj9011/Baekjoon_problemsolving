{
 "cells": [
  {
   "cell_type": "markdown",
   "metadata": {},
   "source": [
    "# ABCDE"
   ]
  },
  {
   "cell_type": "markdown",
   "metadata": {},
   "source": [
    "https://www.acmicpc.net/problem/13023"
   ]
  },
  {
   "cell_type": "markdown",
   "metadata": {},
   "source": [
    "그래프에 대한 정리\n",
    "그래프는 정점(node, vertex) 와 간선(edge:정점간의 관계(선)) 으로 이루어짐\n",
    "차수 : 정점과 연결되어 있는 간선의 개수\n",
    "인접 행렬 : i->j 간선이 있을떄를 1, 없을때를 0 으로한 행렬\n",
    "인접 리스트 : 예로 [[1], [0, 2], [1, 3], [2, 4], [3]] 이런식으로 나타나며 정점의 순서로 무엇이랑 연결되어있는지 리스트 형태\n",
    "간선 리스트 : 모든 간선을 나타내는 형식, 예로 [(0,1), (1,0), (1,2)]"
   ]
  },
  {
   "cell_type": "code",
   "execution_count": 1,
   "metadata": {},
   "outputs": [],
   "source": [
    "# 노드수, 간선수\n",
    "n,m = map(int,input().split())\n",
    "# 인접행렬\n",
    "ad_mat = [[False] * n for _ in range(n)]\n",
    "# 인접리스트\n",
    "ad_list = [[] for _ in range(n)]\n",
    "# 간선리스트\n",
    "edges=[]"
   ]
  },
  {
   "cell_type": "markdown",
   "metadata": {},
   "source": [
    "#입력을 받으며 간선리스트, 인접행렬 그리고 인접리스트 채우기\n",
    "for _ in range(m):\n",
    "    u,v = map(int, input().split())\n",
    "    # \n",
    "    edges.append((u,v))\n",
    "    edges.append((v,u))\n",
    "    ad_mat[u][v] = ad_mat[v][u] = True\n",
    "    ad_list[u].append(v)\n",
    "    ad_list[v].append(u)"
   ]
  },
  {
   "cell_type": "code",
   "execution_count": 2,
   "metadata": {},
   "outputs": [
    {
     "ename": "IndexError",
     "evalue": "list index out of range",
     "output_type": "error",
     "traceback": [
      "\u001b[1;31m---------------------------------------------------------------------------\u001b[0m",
      "\u001b[1;31mIndexError\u001b[0m                                Traceback (most recent call last)",
      "\u001b[1;32m<ipython-input-2-83ca4a0adefe>\u001b[0m in \u001b[0;36m<module>\u001b[1;34m()\u001b[0m\n\u001b[0;32m      2\u001b[0m \u001b[1;32mfor\u001b[0m \u001b[0mi\u001b[0m \u001b[1;32min\u001b[0m \u001b[0mrange\u001b[0m\u001b[1;33m(\u001b[0m\u001b[0mm\u001b[0m\u001b[1;33m)\u001b[0m\u001b[1;33m:\u001b[0m\u001b[1;33m\u001b[0m\u001b[0m\n\u001b[0;32m      3\u001b[0m     \u001b[1;32mfor\u001b[0m \u001b[0mj\u001b[0m \u001b[1;32min\u001b[0m \u001b[0mrange\u001b[0m\u001b[1;33m(\u001b[0m\u001b[0mm\u001b[0m\u001b[1;33m)\u001b[0m\u001b[1;33m:\u001b[0m\u001b[1;33m\u001b[0m\u001b[0m\n\u001b[1;32m----> 4\u001b[1;33m         \u001b[0mA\u001b[0m\u001b[1;33m,\u001b[0m\u001b[0mB\u001b[0m \u001b[1;33m=\u001b[0m \u001b[0medges\u001b[0m\u001b[1;33m[\u001b[0m\u001b[0mi\u001b[0m\u001b[1;33m]\u001b[0m\u001b[1;33m\u001b[0m\u001b[0m\n\u001b[0m\u001b[0;32m      5\u001b[0m         \u001b[0mC\u001b[0m\u001b[1;33m,\u001b[0m\u001b[0mD\u001b[0m \u001b[1;33m=\u001b[0m \u001b[0medges\u001b[0m\u001b[1;33m[\u001b[0m\u001b[0mj\u001b[0m\u001b[1;33m]\u001b[0m\u001b[1;33m\u001b[0m\u001b[0m\n\u001b[0;32m      6\u001b[0m         \u001b[1;31m# 간선리스트에서 연결되있는 모두가 달라야한다\u001b[0m\u001b[1;33m\u001b[0m\u001b[1;33m\u001b[0m\u001b[0m\n",
      "\u001b[1;31mIndexError\u001b[0m: list index out of range"
     ]
    }
   ],
   "source": [
    "m *= 2\n",
    "for i in range(m):\n",
    "    for j in range(m):\n",
    "        A,B = edges[i]\n",
    "        C,D = edges[j]\n",
    "        # 간선리스트에서 연결되있는 모두가 달라야한다\n",
    "        if A==B or A==C or A==D or B==C or B==D or C==D:\n",
    "            continue\n",
    "        # 인접 행렬에서 B,C 넘어가는, 비교하는 구간에서 서로\n",
    "        # 연결되어야 한다\n",
    "        if ad_mat[B][C] == False:\n",
    "            continue\n",
    "        # 위의 컨디션을 다 통과후 인접리스트에서 값들이 모두\n",
    "        # 달라야한다\n",
    "        for E in ad_list[D]:\n",
    "            if A== E or B==E or C==E or D==E:\n",
    "                continue\n",
    "        \n",
    "            print(1)\n",
    "            sys.exit(0)\n",
    "print(0)         "
   ]
  },
  {
   "cell_type": "code",
   "execution_count": null,
   "metadata": {},
   "outputs": [],
   "source": []
  },
  {
   "cell_type": "code",
   "execution_count": null,
   "metadata": {},
   "outputs": [],
   "source": []
  },
  {
   "cell_type": "code",
   "execution_count": null,
   "metadata": {},
   "outputs": [],
   "source": []
  },
  {
   "cell_type": "code",
   "execution_count": null,
   "metadata": {},
   "outputs": [],
   "source": []
  }
 ],
 "metadata": {
  "kernelspec": {
   "display_name": "Python 3",
   "language": "python",
   "name": "python3"
  },
  "language_info": {
   "codemirror_mode": {
    "name": "ipython",
    "version": 3
   },
   "file_extension": ".py",
   "mimetype": "text/x-python",
   "name": "python",
   "nbconvert_exporter": "python",
   "pygments_lexer": "ipython3",
   "version": "3.6.5"
  }
 },
 "nbformat": 4,
 "nbformat_minor": 2
}
