{
 "cells": [
  {
   "cell_type": "markdown",
   "metadata": {},
   "source": [
    "# 벽 부수고 이동하기"
   ]
  },
  {
   "cell_type": "markdown",
   "metadata": {},
   "source": [
    "이동하는 i,j 뿐만아니라 k, 벽은 부순적 없음 있음으로도 BFS탐색을 진행해야한다."
   ]
  },
  {
   "cell_type": "markdown",
   "metadata": {},
   "source": [
    "두가지 경우로 나누어서 카운트를 해야함, 벽을 안부순경우와 부순경우를 나누어서 진행"
   ]
  },
  {
   "cell_type": "markdown",
   "metadata": {},
   "source": [
    "https://www.acmicpc.net/problem/2206"
   ]
  },
  {
   "cell_type": "code",
   "execution_count": 3,
   "metadata": {},
   "outputs": [],
   "source": [
    "from collections import deque"
   ]
  },
  {
   "cell_type": "code",
   "execution_count": 4,
   "metadata": {},
   "outputs": [],
   "source": [
    "n,m = map(int, input().split())\n",
    "a = [list(map(int, list(input())))for i in range(n)]\n",
    "dist = [[[0]*2 for _ in range(m)] for i in range(n)]\n",
    "dx =[0,0,1,-1]\n",
    "dy=[1,-1,0,0]\n",
    "q = deque()\n",
    "q.append((0,0,0))\n",
    "# 시작하는 칸도 포함\n",
    "dist[0][0][0] = 1 "
   ]
  },
  {
   "cell_type": "code",
   "execution_count": 5,
   "metadata": {},
   "outputs": [],
   "source": [
    "while q:\n",
    "    x,y,z = q.popleft()\n",
    "    for k in range(4):\n",
    "        nx, ny = x+dx[k], y+dy[k]\n",
    "        # 이동한 위치가 맵 범위안에 있다면\n",
    "        if 0 <=nx < n and 0 <= ny < m:\n",
    "            # 빈칸이고 방문한적 없다면\n",
    "            if a[nx][ny] == 0 and dist[nx][ny][z] == 0:\n",
    "                # 그동안 카운트해온 이동값을 dist에 넣어줌\n",
    "                dist[nx][ny][z] = dist[x][y][z] + 1\n",
    "                q.append((nx,ny,z))\n",
    "            # 벽을 꺤적이 한번도 없고 맵이 벽이고 방문한적 없다면\n",
    "            if z == 0 and a[nx][ny] == 1 and dist[nx][ny][z] == 0:\n",
    "                dist[nx][ny][z+1] = dist[x][y][z] + 1 # z+1 = dist [0, 0] -> dist [0, 1]\n",
    "                q.append((nx,ny,z+1))"
   ]
  },
  {
   "cell_type": "code",
   "execution_count": 6,
   "metadata": {},
   "outputs": [
    {
     "name": "stdout",
     "output_type": "stream",
     "text": [
      "15\n"
     ]
    }
   ],
   "source": [
    "# 벽을 부순경우와 벽을 안부순 경우 둘다 있다면\n",
    "if dist[n-1][m-1][0] != 0 and dist[n-1][m-1][1]  != 0:\n",
    "    # 그 두값의 최소값을 프린트\n",
    "    print(min(dist[n-1][m-1]))\n",
    "# 벽을 안부슨경우라면\n",
    "elif dist[n-1][m-1][0] != 0:\n",
    "    # 벽을 안부슨 카운트만 프린트 \n",
    "    print(dist[n-1][m-1][0])\n",
    "    # 벽을 부슨 경우라면\n",
    "elif dist[n-1][m-1][1] != 0:\n",
    "    # 벽을 부슨 카운트만 프린트\n",
    "    print(dist[n-1][m-1][1])\n",
    "    # 그외는 -1 프린트\n",
    "else:\n",
    "    print(-1)"
   ]
  }
 ],
 "metadata": {
  "kernelspec": {
   "display_name": "Python 3",
   "language": "python",
   "name": "python3"
  },
  "language_info": {
   "codemirror_mode": {
    "name": "ipython",
    "version": 3
   },
   "file_extension": ".py",
   "mimetype": "text/x-python",
   "name": "python",
   "nbconvert_exporter": "python",
   "pygments_lexer": "ipython3",
   "version": "3.6.5"
  }
 },
 "nbformat": 4,
 "nbformat_minor": 2
}
