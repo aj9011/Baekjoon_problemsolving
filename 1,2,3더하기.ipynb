{
 "cells": [
  {
   "cell_type": "markdown",
   "metadata": {},
   "source": [
    "# 1,2,3 더하기"
   ]
  },
  {
   "cell_type": "markdown",
   "metadata": {},
   "source": [
    "https://www.acmicpc.net/problem/9095"
   ]
  },
  {
   "cell_type": "markdown",
   "metadata": {},
   "source": [
    "* 불가능한 경우 : sum > goal\n",
    "* 정답을 찾은 경우 : sum == goal\n",
    "- 다음 경우 호출\n",
    "* 1을 사용 : go(count + 1, sum+1, goal)\n",
    "* 2을 사용 : go(count + 1, sum+2, goal)\n",
    "* 3을 사용 : go(count + 1, sum+3, goal)"
   ]
  },
  {
   "cell_type": "markdown",
   "metadata": {},
   "source": [
    "* go(1, goal)\n",
    "* 1로 시작해서 나올 수 있는 모든 combination을 하면서\n",
    "* sums == goal이 되는 순간 return 1이 ans로 축적됨\n",
    "* return 1 이후에도 sums < goal이면은 for loop으로 1,2,3을 더하며 계속 \n",
    "* 재귀 함수를 계속 호출함\n",
    "* go(2, goal)\n",
    "* 2로 시작해서 ~\n",
    "* go(3, goal)\n",
    "* 3로 시작해서 ~"
   ]
  },
  {
   "cell_type": "code",
   "execution_count": 6,
   "metadata": {},
   "outputs": [],
   "source": [
    "def go(sums, goal):\n",
    "    if sums > goal:\n",
    "        return 0\n",
    "    if sums == goal:\n",
    "        return 1\n",
    "    ans = 0\n",
    "    for i in range(1,4):\n",
    "        ans += go(sums+i, goal)\n",
    "    \n",
    "    return ans"
   ]
  },
  {
   "cell_type": "code",
   "execution_count": 8,
   "metadata": {},
   "outputs": [
    {
     "name": "stdout",
     "output_type": "stream",
     "text": [
      "7\n",
      "44\n",
      "274\n"
     ]
    }
   ],
   "source": [
    "t = int(input())\n",
    "for _ in range(t):\n",
    "    goal = int(input())\n",
    "    print(go(0,goal))"
   ]
  },
  {
   "cell_type": "code",
   "execution_count": null,
   "metadata": {},
   "outputs": [],
   "source": []
  },
  {
   "cell_type": "code",
   "execution_count": null,
   "metadata": {},
   "outputs": [],
   "source": []
  },
  {
   "cell_type": "code",
   "execution_count": null,
   "metadata": {},
   "outputs": [],
   "source": []
  },
  {
   "cell_type": "code",
   "execution_count": null,
   "metadata": {},
   "outputs": [],
   "source": []
  },
  {
   "cell_type": "code",
   "execution_count": null,
   "metadata": {},
   "outputs": [],
   "source": []
  },
  {
   "cell_type": "code",
   "execution_count": null,
   "metadata": {},
   "outputs": [],
   "source": []
  },
  {
   "cell_type": "code",
   "execution_count": null,
   "metadata": {},
   "outputs": [],
   "source": []
  },
  {
   "cell_type": "code",
   "execution_count": null,
   "metadata": {},
   "outputs": [],
   "source": []
  },
  {
   "cell_type": "code",
   "execution_count": null,
   "metadata": {},
   "outputs": [],
   "source": []
  },
  {
   "cell_type": "code",
   "execution_count": null,
   "metadata": {},
   "outputs": [],
   "source": []
  }
 ],
 "metadata": {
  "kernelspec": {
   "display_name": "Python 3",
   "language": "python",
   "name": "python3"
  },
  "language_info": {
   "codemirror_mode": {
    "name": "ipython",
    "version": 3
   },
   "file_extension": ".py",
   "mimetype": "text/x-python",
   "name": "python",
   "nbconvert_exporter": "python",
   "pygments_lexer": "ipython3",
   "version": "3.6.5"
  }
 },
 "nbformat": 4,
 "nbformat_minor": 2
}
