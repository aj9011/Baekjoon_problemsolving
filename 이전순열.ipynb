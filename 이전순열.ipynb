{
 "cells": [
  {
   "cell_type": "markdown",
   "metadata": {},
   "source": [
    "# 이전순열"
   ]
  },
  {
   "cell_type": "markdown",
   "metadata": {},
   "source": [
    "다음순열에서 부등호만 거꾸로 하고 나머지는 같음\n",
    "i보다 큰 i-1를 찾고 이보다는 작은 j를 찾음\n",
    "그 이후 j는 다시 끝번호, i와 j사이 정렬"
   ]
  },
  {
   "cell_type": "code",
   "execution_count": 1,
   "metadata": {},
   "outputs": [],
   "source": [
    "def prev_permutation(a):\n",
    "    i = len(a)-1\n",
    "    while i > 0 and a[i-1] <= a[i]:\n",
    "        i -= 1\n",
    "    if i <= 0:\n",
    "        return False\n",
    "    j = len(a)-1\n",
    "    while a[j] >= a[i-1]:\n",
    "        j -= 1\n",
    "\n",
    "    a[i-1],a[j] = a[j],a[i-1]\n",
    "\n",
    "    j = len(a)-1\n",
    "    while i < j:\n",
    "        a[i],a[j] = a[j],a[i]\n",
    "        i += 1\n",
    "        j -= 1\n",
    "\n",
    "    return True"
   ]
  },
  {
   "cell_type": "code",
   "execution_count": 2,
   "metadata": {},
   "outputs": [
    {
     "name": "stdout",
     "output_type": "stream",
     "text": [
      "7 2 3 6 5 4 1\n"
     ]
    }
   ],
   "source": [
    "n = int(input())\n",
    "a = list(map(int, input().split()))\n",
    "if prev_permutation(a):\n",
    "    print(' '.join(map(str,a)))\n",
    "else:\n",
    "    print(-1)"
   ]
  }
 ],
 "metadata": {
  "kernelspec": {
   "display_name": "Python 3",
   "language": "python",
   "name": "python3"
  },
  "language_info": {
   "codemirror_mode": {
    "name": "ipython",
    "version": 3
   },
   "file_extension": ".py",
   "mimetype": "text/x-python",
   "name": "python",
   "nbconvert_exporter": "python",
   "pygments_lexer": "ipython3",
   "version": "3.6.5"
  }
 },
 "nbformat": 4,
 "nbformat_minor": 2
}
